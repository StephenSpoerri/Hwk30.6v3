{
 "cells": [
  {
   "cell_type": "code",
   "execution_count": 1,
   "id": "9351aade",
   "metadata": {},
   "outputs": [],
   "source": [
    "import pandas as pd\n",
    "import numpy as np\n",
    "import matplotlib"
   ]
  },
  {
   "cell_type": "code",
   "execution_count": 2,
   "id": "b8469cd2",
   "metadata": {},
   "outputs": [],
   "source": [
    "file = 'NewData.csv'"
   ]
  },
  {
   "cell_type": "code",
   "execution_count": 3,
   "id": "30477928",
   "metadata": {},
   "outputs": [
    {
     "name": "stdout",
     "output_type": "stream",
     "text": [
      "   SCHID  C0110  C0112  C0114  C0116  C0118  C0120  C0122  C0124  C0126  ...  \\\n",
      "0      3      1      2      2      2      2      2      2      2      2  ...   \n",
      "1      4      1      1      2      2      2      2      1      2      2  ...   \n",
      "2      8      1      2      2      2      2      2      1      1      2  ...   \n",
      "3     10      1      1      2      2      2      2      2      2      2  ...   \n",
      "4     13      1      1      2      2      2      2      1      2      2  ...   \n",
      "\n",
      "   C0236_R  C0238_R  C0240_R  C0242_R  C0540_R  C0542_R  C0544_R  C0546_R  \\\n",
      "0       -1       -1       -1       -1        4        3        5        0   \n",
      "1        0        1        0        0        1        5        2        0   \n",
      "2        1        0        0        0        6        1        4        0   \n",
      "3        0        1        0        0       11        1       13        0   \n",
      "4        0        0        1        0        4        0        8        0   \n",
      "\n",
      "   C0556_R  C0558_R  \n",
      "0        1        0  \n",
      "1        1        0  \n",
      "2        3        0  \n",
      "3        7        6  \n",
      "4        1        0  \n",
      "\n",
      "[5 rows x 525 columns]\n"
     ]
    }
   ],
   "source": [
    "df = pd.read_csv(file)\n",
    "print(df.head())"
   ]
  },
  {
   "cell_type": "code",
   "execution_count": 4,
   "id": "93e29c48",
   "metadata": {},
   "outputs": [
    {
     "name": "stdout",
     "output_type": "stream",
     "text": [
      "['SCHID', 'C0110', 'C0112', 'C0114', 'C0116', 'C0118', 'C0120', 'C0122', 'C0124', 'C0126', 'C0128', 'C0130', 'C0132', 'C0134', 'C0136', 'C0138', 'C0140', 'C0142', 'C0144', 'C0146', 'C0148', 'C0150', 'C0152', 'C0154', 'C0156', 'C0158', 'C0160', 'C0162', 'C0164', 'C0166', 'C0168', 'C0170', 'C0172', 'C0174', 'C0176', 'C0178', 'C0180', 'C0182', 'C0184', 'C0186', 'C0188', 'C0190', 'C0192', 'C0194', 'C0196', 'C0198', 'C0200', 'C0202', 'C0204', 'C0206', 'C0208', 'C0210', 'C0212', 'C0214', 'C0216', 'C0218', 'C0220', 'C0222', 'C0224', 'C0226', 'C0228', 'C0230', 'C0231_R', 'C0244', 'C0246', 'C0248', 'C0250', 'C0252', 'C0254', 'C0256', 'C0258', 'C0260', 'C0262', 'C0264', 'C0266', 'C0268', 'C0270', 'C0272', 'C0274', 'C0276', 'C0280', 'C0282', 'C0284', 'C0286', 'C0288', 'C0290', 'C0292', 'C0294', 'C0296', 'C0298', 'C0300', 'C0302', 'C0304', 'C0306', 'C0308', 'C0310', 'C0312', 'C0314', 'C0316', 'C0318', 'C0320', 'C0322', 'C0324', 'C0326', 'C0328', 'C0330', 'C0332', 'C0334', 'C0336', 'C0338', 'C0340', 'C0342', 'C0344', 'C0346', 'C0348', 'C0350', 'C0352', 'C0354', 'C0356', 'C0358', 'C0360', 'C0362', 'C0364', 'C0366', 'C0368', 'C0369', 'C0370', 'C0372', 'C0374', 'C0376', 'C0378', 'C0380', 'C0382', 'C0384', 'C0386', 'C0388', 'C0390', 'C0392', 'C0394', 'C0396', 'C0398', 'C0400', 'C0402', 'C0404', 'C0406', 'C0408', 'C0410', 'C0412', 'C0414', 'C0416', 'C0418', 'C0420', 'C0422', 'C0424', 'C0426', 'C0428', 'C0430', 'C0432', 'C0434', 'C0436', 'C0438', 'C0440', 'C0442', 'C0444', 'C0446', 'C0448', 'C0450', 'C0452', 'C0454', 'C0456', 'C0458', 'C0460', 'C0462', 'C0464', 'C0466', 'C0468', 'C0470', 'C0472', 'C0474', 'C0476', 'C0478', 'C0480', 'C0482', 'C0484', 'C0486', 'C0488', 'C0490', 'C0492', 'C0494', 'C0496', 'C0498', 'C0500', 'C0502', 'C0504', 'C0506', 'C0508', 'C0510', 'C0512', 'C0514', 'C0516', 'C0518', 'C0520', 'C0526', 'C0528', 'C0532', 'C0534', 'C0536', 'C0538', 'C0560', 'C0562', 'C0568', 'C0570', 'C0572', 'C0578', 'C0578_DD', 'C0578_MM', 'C0578_YY', 'C0580', 'CRISIS06', 'DISTOT06', 'INCID06', 'INCPOL06', 'OTHACT06', 'OUTSUS06', 'PROBWK06', 'REMOVL06', 'STRATA', 'STUOFF06', 'SVINC06', 'SVPOL06', 'TRANSF06', 'VIOINC06', 'VIOPOL06', 'FR_CATMN', 'FR_LOC4', 'FR_LVEL', 'FR_SIZE', 'FINALWGT', 'REPWGT1', 'REPWGT2', 'REPWGT3', 'REPWGT4', 'REPWGT5', 'REPWGT6', 'REPWGT7', 'REPWGT8', 'REPWGT9', 'REPWGT10', 'REPWGT11', 'REPWGT12', 'REPWGT13', 'REPWGT14', 'REPWGT15', 'REPWGT16', 'REPWGT17', 'REPWGT18', 'REPWGT19', 'REPWGT20', 'REPWGT21', 'REPWGT22', 'REPWGT23', 'REPWGT24', 'REPWGT25', 'REPWGT26', 'REPWGT27', 'REPWGT28', 'REPWGT29', 'REPWGT30', 'REPWGT31', 'REPWGT32', 'REPWGT33', 'REPWGT34', 'REPWGT35', 'REPWGT36', 'REPWGT37', 'REPWGT38', 'REPWGT39', 'REPWGT40', 'REPWGT41', 'REPWGT42', 'REPWGT43', 'REPWGT44', 'REPWGT45', 'REPWGT46', 'REPWGT47', 'REPWGT48', 'REPWGT49', 'REPWGT50', 'IC0110', 'IC0112', 'IC0114', 'IC0116', 'IC0118', 'IC0120', 'IC0122', 'IC0124', 'IC0126', 'IC0132', 'IC0128', 'IC0130', 'IC0134', 'IC0136', 'IC0138', 'IC0140', 'IC0142', 'IC0144', 'IC0146', 'IC0148', 'IC0150', 'IC0152', 'IC0154', 'IC0156', 'IC0158', 'IC0160', 'IC0162', 'IC0164', 'IC0166', 'IC0168', 'IC0170', 'IC0172', 'IC0174', 'IC0176', 'IC0178', 'IC0180', 'IC0182', 'IC0184', 'IC0186', 'IC0188', 'IC0190', 'IC0192', 'IC0194', 'IC0196', 'IC0198', 'IC0200', 'IC0202', 'IC0204', 'IC0206', 'IC0208', 'IC0210', 'IC0212', 'IC0214', 'IC0216', 'IC0218', 'IC0220', 'IC0222', 'IC0224', 'IC0226', 'IC0228', 'IC0230', 'IC0232', 'IC0234', 'IC0236', 'IC0238', 'IC0240', 'IC0242', 'IC0244', 'IC0246', 'IC0248', 'IC0250', 'IC0252', 'IC0254', 'IC0256', 'IC0258', 'IC0260', 'IC0262', 'IC0264', 'IC0266', 'IC0268', 'IC0270', 'IC0272', 'IC0274', 'IC0276', 'IC0280', 'IC0282', 'IC0284', 'IC0286', 'IC0288', 'IC0290', 'IC0292', 'IC0294', 'IC0296', 'IC0298', 'IC0300', 'IC0302', 'IC0304', 'IC0306', 'IC0308', 'IC0310', 'IC0312', 'IC0314', 'IC0316', 'IC0318', 'IC0320', 'IC0322', 'IC0324', 'IC0326', 'IC0328', 'IC0330', 'IC0332', 'IC0334', 'IC0336', 'IC0338', 'IC0340', 'IC0342', 'IC0344', 'IC0346', 'IC0348', 'IC0350', 'IC0352', 'IC0354', 'IC0356', 'IC0358', 'IC0360', 'IC0362', 'IC0364', 'IC0366', 'IC0368', 'IC0369', 'IC0370', 'IC0372', 'IC0374', 'IC0376', 'IC0378', 'IC0380', 'IC0382', 'IC0384', 'IC0386', 'IC0388', 'IC0390', 'IC0392', 'IC0394', 'IC0396', 'IC0398', 'IC0400', 'IC0402', 'IC0404', 'IC0406', 'IC0408', 'IC0410', 'IC0412', 'IC0414', 'IC0416', 'IC0418', 'IC0420', 'IC0422', 'IC0424', 'IC0426', 'IC0428', 'IC0430', 'IC0432', 'IC0434', 'IC0436', 'IC0438', 'IC0440', 'IC0442', 'IC0444', 'IC0446', 'IC0448', 'IC0450', 'IC0452', 'IC0454', 'IC0456', 'IC0458', 'IC0460', 'IC0462', 'IC0464', 'IC0466', 'IC0468', 'IC0470', 'IC0472', 'IC0474', 'IC0476', 'IC0478', 'IC0480', 'IC0482', 'IC0484', 'IC0486', 'IC0488', 'IC0490', 'IC0492', 'IC0494', 'IC0496', 'IC0498', 'IC0500', 'IC0502', 'IC0504', 'IC0506', 'IC0508', 'IC0510', 'IC0512', 'IC0514', 'IC0516', 'IC0518', 'IC0520', 'IC0526', 'IC0528', 'IC0532', 'IC0534', 'IC0536', 'IC0538', 'IC0540', 'IC0542', 'IC0544', 'IC0546', 'IC0556', 'IC0558', 'IC0560', 'IC0562', 'IC0568', 'IC0570', 'IC0572', 'C0016_R', 'C0014_R2', 'C0232_R', 'C0234_R', 'C0236_R', 'C0238_R', 'C0240_R', 'C0242_R', 'C0540_R', 'C0542_R', 'C0544_R', 'C0546_R', 'C0556_R', 'C0558_R']\n",
      "2724\n",
      "525\n"
     ]
    }
   ],
   "source": [
    "print(list(df))\n",
    "print(len(df))\n",
    "print(len(list(df)))"
   ]
  },
  {
   "cell_type": "code",
   "execution_count": 5,
   "id": "e3ac0304",
   "metadata": {},
   "outputs": [
    {
     "name": "stdout",
     "output_type": "stream",
     "text": [
      "1.804331864904552\n",
      "2.0\n",
      "0.3967869873480423\n"
     ]
    }
   ],
   "source": [
    "quant_col = 'C0126'\n",
    "\n",
    "mean = df[quant_col].mean()\n",
    "print(mean)\n",
    "\n",
    "median = df [quant_col].median()\n",
    "print(median)\n",
    "\n",
    "stan_dev = df[quant_col].std()\n",
    "print(stan_dev)"
   ]
  },
  {
   "cell_type": "code",
   "execution_count": null,
   "id": "cd90cd7b",
   "metadata": {},
   "outputs": [],
   "source": []
  }
 ],
 "metadata": {
  "kernelspec": {
   "display_name": "Python 3 (ipykernel)",
   "language": "python",
   "name": "python3"
  },
  "language_info": {
   "codemirror_mode": {
    "name": "ipython",
    "version": 3
   },
   "file_extension": ".py",
   "mimetype": "text/x-python",
   "name": "python",
   "nbconvert_exporter": "python",
   "pygments_lexer": "ipython3",
   "version": "3.9.12"
  }
 },
 "nbformat": 4,
 "nbformat_minor": 5
}
